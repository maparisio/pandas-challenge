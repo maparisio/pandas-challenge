{
 "cells": [
  {
   "cell_type": "markdown",
   "id": "b1d1e2a0-38a0-4bbd-a4e2-200fc6e91ee6",
   "metadata": {},
   "source": [
    "# <p><strong>Module 4 Challenge: Data Analysis With Python<strong></p>"
   ]
  },
  {
   "cell_type": "code",
   "execution_count": null,
   "id": "75c81a3a-d41b-4d34-bdc5-15fb6b497d53",
   "metadata": {},
   "outputs": [],
   "source": []
  },
  {
   "cell_type": "markdown",
   "id": "a69dabbf-c618-40c1-94e5-bbdb2ced4472",
   "metadata": {},
   "source": [
    "# <p><strong>Analysis of Py City Schools<strong></p>"
   ]
  },
  {
   "cell_type": "raw",
   "id": "000c396c-2954-4fe6-9e50-8fece4f48ab5",
   "metadata": {},
   "source": [
    "<ul>\n",
    "<li>As a whole, schools with higher budgets, did not yield better test results. By contrast, schools with higher \n",
    "    spending 645-675 per student actually underperformed compared to schools with smaller budgets (585 per student).<li>\r",
    "<ul>\n",
    "<li>\r\n",
    "As a whole, smaller and medium sized schools dramatically out-performed large sized schools on passing mat\n",
    "    h performances (89-91% passing vs 67/%<i# <li>\r\n",
    "\r\n",
    "As a whole, charter schools out-performed the public district schools across all metrics. However, more analysis will be required to glean if the effect is due to school practices or the fact that charter schools tend to serve smaller student populations per sch<li>\n",
    "</ul>\n",
    "ool."
   ]
  },
  {
   "cell_type": "markdown",
   "id": "a958d83a-79e8-4c8e-9ec3-4329ef97e19b",
   "metadata": {},
   "source": [
    "# Import the Dependencies"
   ]
  },
  {
   "cell_type": "code",
   "execution_count": 1,
   "id": "c4840f7b-d4d3-448e-8d6a-ec17e7be2d0c",
   "metadata": {},
   "outputs": [],
   "source": [
    "import pandas as pd\n",
    "from pathlib import Path"
   ]
  },
  {
   "cell_type": "code",
   "execution_count": 2,
   "id": "84bd0a74-1d22-477e-9d65-5387c8185ec6",
   "metadata": {},
   "outputs": [],
   "source": [
    "# File to Load (Remember to Change These)\n",
    "school_data_to_load = Path(\"../Resources/schools_complete.csv\")\n",
    "student_data_to_load = Path(\"../Resources/students_complete.csv\")"
   ]
  },
  {
   "cell_type": "code",
   "execution_count": 3,
   "id": "9bb63913-9c1f-4960-8c65-9aa0097f755a",
   "metadata": {},
   "outputs": [],
   "source": [
    "# Read School and Student Data File and store into Pandas DataFrames\n",
    "school_data = pd.read_csv(school_data_to_load)\n",
    "student_data = pd.read_csv(student_data_to_load)"
   ]
  },
  {
   "cell_type": "code",
   "execution_count": 4,
   "id": "1591c030-1480-418b-8794-a23bad7ab9cc",
   "metadata": {},
   "outputs": [
    {
     "data": {
      "text/html": [
       "<div>\n",
       "<style scoped>\n",
       "    .dataframe tbody tr th:only-of-type {\n",
       "        vertical-align: middle;\n",
       "    }\n",
       "\n",
       "    .dataframe tbody tr th {\n",
       "        vertical-align: top;\n",
       "    }\n",
       "\n",
       "    .dataframe thead th {\n",
       "        text-align: right;\n",
       "    }\n",
       "</style>\n",
       "<table border=\"1\" class=\"dataframe\">\n",
       "  <thead>\n",
       "    <tr style=\"text-align: right;\">\n",
       "      <th></th>\n",
       "      <th>Student ID</th>\n",
       "      <th>student_name</th>\n",
       "      <th>gender</th>\n",
       "      <th>grade</th>\n",
       "      <th>school_name</th>\n",
       "      <th>reading_score</th>\n",
       "      <th>math_score</th>\n",
       "      <th>School ID</th>\n",
       "      <th>type</th>\n",
       "      <th>size</th>\n",
       "      <th>budget</th>\n",
       "    </tr>\n",
       "  </thead>\n",
       "  <tbody>\n",
       "    <tr>\n",
       "      <th>0</th>\n",
       "      <td>0</td>\n",
       "      <td>Paul Bradley</td>\n",
       "      <td>M</td>\n",
       "      <td>9th</td>\n",
       "      <td>Huang High School</td>\n",
       "      <td>66</td>\n",
       "      <td>79</td>\n",
       "      <td>0</td>\n",
       "      <td>District</td>\n",
       "      <td>2917</td>\n",
       "      <td>1910635</td>\n",
       "    </tr>\n",
       "    <tr>\n",
       "      <th>1</th>\n",
       "      <td>1</td>\n",
       "      <td>Victor Smith</td>\n",
       "      <td>M</td>\n",
       "      <td>12th</td>\n",
       "      <td>Huang High School</td>\n",
       "      <td>94</td>\n",
       "      <td>61</td>\n",
       "      <td>0</td>\n",
       "      <td>District</td>\n",
       "      <td>2917</td>\n",
       "      <td>1910635</td>\n",
       "    </tr>\n",
       "    <tr>\n",
       "      <th>2</th>\n",
       "      <td>2</td>\n",
       "      <td>Kevin Rodriguez</td>\n",
       "      <td>M</td>\n",
       "      <td>12th</td>\n",
       "      <td>Huang High School</td>\n",
       "      <td>90</td>\n",
       "      <td>60</td>\n",
       "      <td>0</td>\n",
       "      <td>District</td>\n",
       "      <td>2917</td>\n",
       "      <td>1910635</td>\n",
       "    </tr>\n",
       "    <tr>\n",
       "      <th>3</th>\n",
       "      <td>3</td>\n",
       "      <td>Dr. Richard Scott</td>\n",
       "      <td>M</td>\n",
       "      <td>12th</td>\n",
       "      <td>Huang High School</td>\n",
       "      <td>67</td>\n",
       "      <td>58</td>\n",
       "      <td>0</td>\n",
       "      <td>District</td>\n",
       "      <td>2917</td>\n",
       "      <td>1910635</td>\n",
       "    </tr>\n",
       "    <tr>\n",
       "      <th>4</th>\n",
       "      <td>4</td>\n",
       "      <td>Bonnie Ray</td>\n",
       "      <td>F</td>\n",
       "      <td>9th</td>\n",
       "      <td>Huang High School</td>\n",
       "      <td>97</td>\n",
       "      <td>84</td>\n",
       "      <td>0</td>\n",
       "      <td>District</td>\n",
       "      <td>2917</td>\n",
       "      <td>1910635</td>\n",
       "    </tr>\n",
       "  </tbody>\n",
       "</table>\n",
       "</div>"
      ],
      "text/plain": [
       "   Student ID       student_name gender grade        school_name  \\\n",
       "0           0       Paul Bradley      M   9th  Huang High School   \n",
       "1           1       Victor Smith      M  12th  Huang High School   \n",
       "2           2    Kevin Rodriguez      M  12th  Huang High School   \n",
       "3           3  Dr. Richard Scott      M  12th  Huang High School   \n",
       "4           4         Bonnie Ray      F   9th  Huang High School   \n",
       "\n",
       "   reading_score  math_score  School ID      type  size   budget  \n",
       "0             66          79          0  District  2917  1910635  \n",
       "1             94          61          0  District  2917  1910635  \n",
       "2             90          60          0  District  2917  1910635  \n",
       "3             67          58          0  District  2917  1910635  \n",
       "4             97          84          0  District  2917  1910635  "
      ]
     },
     "execution_count": 4,
     "metadata": {},
     "output_type": "execute_result"
    }
   ],
   "source": [
    "# Merge the two DataFrames together into a single database\n",
    "school_data_complete = pd.merge(student_data,school_data, how=\"left\", on=[\"school_name\", \"school_name\"])\n",
    "school_data_complete.head()"
   ]
  },
  {
   "cell_type": "markdown",
   "id": "46a6918b-2b6c-4a80-9777-79ae434040f0",
   "metadata": {},
   "source": [
    "# District Summary"
   ]
  },
  {
   "cell_type": "code",
   "execution_count": 5,
   "id": "b796574d-97e9-441d-8423-ffdcab7ffc9c",
   "metadata": {},
   "outputs": [
    {
     "data": {
      "text/plain": [
       "15"
      ]
     },
     "execution_count": 5,
     "metadata": {},
     "output_type": "execute_result"
    }
   ],
   "source": [
    "# Calculate the total number of unique schools\n",
    "school_count = len(school_data_complete[\"school_name\"].unique())\n",
    "school_count"
   ]
  },
  {
   "cell_type": "code",
   "execution_count": 6,
   "id": "1ac7e700-8671-4252-b0c4-9200f4fa0bbf",
   "metadata": {},
   "outputs": [],
   "source": [
    "# Calculate the total number of students\n",
    "student_count = school_data_complete[\"Student ID\"].count()\n",
    "school_count"
   ]
  },
  {
   "cell_type": "code",
   "execution_count": 7,
   "id": "b7a3e29a-cf6d-4ca9-b9c9-18be4c40ebac",
   "metadata": {},
   "outputs": [
    {
     "data": {
      "text/plain": [
       "39170"
      ]
     },
     "execution_count": 7,
     "metadata": {},
     "output_type": "execute_result"
    }
   ],
   "source": [
    "student_count = student_data.count()[\"Student ID\"]\n",
    "student_count"
   ]
  },
  {
   "cell_type": "code",
   "execution_count": 8,
   "id": "59437ec7-2920-4c6b-bad9-8d57ba19454d",
   "metadata": {},
   "outputs": [
    {
     "data": {
      "text/plain": [
       "24649428"
      ]
     },
     "execution_count": 8,
     "metadata": {},
     "output_type": "execute_result"
    }
   ],
   "source": [
    "# Calculate the total budget\n",
    "total_budget = school_data[\"budget\"].sum()\n",
    "total_budget"
   ]
  },
  {
   "cell_type": "code",
   "execution_count": 9,
   "id": "63bf5289-39aa-4db3-b7df-bf6f0336b342",
   "metadata": {},
   "outputs": [
    {
     "data": {
      "text/plain": [
       "78.98537145774827"
      ]
     },
     "execution_count": 9,
     "metadata": {},
     "output_type": "execute_result"
    }
   ],
   "source": [
    "# Calculate the average (mean) math score\n",
    "average_math_score = student_data[\"math_score\"].mean()\n",
    "average_math_score"
   ]
  },
  {
   "cell_type": "code",
   "execution_count": 10,
   "id": "b542c463-2fdd-48e4-a894-6d0b5cf1318c",
   "metadata": {},
   "outputs": [
    {
     "data": {
      "text/plain": [
       "81.87784018381414"
      ]
     },
     "execution_count": 10,
     "metadata": {},
     "output_type": "execute_result"
    }
   ],
   "source": [
    "# Calculate the average (mean) reading score\n",
    "average_reading_score = student_data[\"reading_score\"].mean()\n",
    "average_reading_score"
   ]
  },
  {
   "cell_type": "code",
   "execution_count": null,
   "id": "6c4c27a7-610e-4b99-909d-512afdaeef7f",
   "metadata": {},
   "outputs": [],
   "source": [
    "# Calculate the percentage of students who passed math (math scores greather than or equal to 70)\n",
    "passing_math_count = school_data_complete[(school_data_complete[\"math_score\"] >= 70)].count()[\"student_name\"]\n",
    "passing_math_percentage = passing_math_count / float(student_count) * 100\n",
    "passing_math_percentage"
   ]
  },
  {
   "cell_type": "code",
   "execution_count": null,
   "id": "f4c7cb75-005a-4ca6-92a5-70976016528d",
   "metadata": {},
   "outputs": [],
   "source": [
    "# Calculate the percentage of students who passed reading (reading scores greather than or equal to 70)\n",
    "passing_reading_count = school_data_complete[(school_data_complete[\"reading_score\"] >= 70)].count()[\"student_name\"]\n",
    "passing_reading_percentage = passing_reading_count / float(student_count) * 100\n",
    "passing_reading_percentage"
   ]
  },
  {
   "cell_type": "code",
   "execution_count": null,
   "id": "5eaf40bf-7345-441c-9f7a-8773d48e0d2b",
   "metadata": {},
   "outputs": [],
   "source": [
    "# Calculate the percentage of students who passed math (math scores greather than or equal to 70)\n",
    "passing_math_count = school_data_complete[(school_data_complete[\"math_score\"] >= 70)].count()[\"student_name\"]\n",
    "passing_math_percentage = passing_math_count / float(student_count) * 100\n",
    "passing_math_percentage"
   ]
  },
  {
   "cell_type": "code",
   "execution_count": null,
   "id": "fbfa9a5c-78b0-45c2-a53f-d7da4ecffa31",
   "metadata": {},
   "outputs": [],
   "source": [
    "# Calculate the percentage of students that passed math and reading (reading and math scores greather than or equal to 70)\n",
    "passing_math_reading_count = school_data_complete[\n",
    "    (school_data_complete[\"math_score\"] >= 70) & (school_data_complete[\"reading_score\"] >= 70)\n",
    "].count()[\"student_name\"]\n",
    "overall_passing_percentage = passing_math_reading_count / float(student_count) * 100\n",
    "overall_passing_percentage"
   ]
  },
  {
   "cell_type": "code",
   "execution_count": null,
   "id": "d2bb3208-d111-486f-b8a8-88ef98881ea1",
   "metadata": {},
   "outputs": [],
   "source": [
    "# Create a DataFrame that summarizes key metrics about each school in the district\n",
    "district_summary = pd.DataFrame(\n",
    "    {\n",
    "        \"Total Schools\": [school_count], \n",
    "        \"Total Students\": [student_count], \n",
    "        \"Total Budget\": [total_budget],\n",
    "        \"Average Math Score\": [average_math_score], \n",
    "        \"Average Reading Score\": [average_reading_score],\n",
    "        \"% Passing Math\": [passing_math_percentage],\n",
    "        \"% Passing Reading\": [passing_reading_percentage],\n",
    "        \"% Overall Passing\": [overall_passing_rate]\n",
    "    }\n",
    ")\n",
    "# Formatting the DataFrame\n",
    "district_summary[\"Total Students\"] = district_summary[\"Total Students\"].map(\"{:,}\".format)\n",
    "district_summary[\"Total Budget\"] = district_summary[\"Total Budget\"].map(\"${:,.2f}\".format)\n",
    "district_summary[\"Average Math Score\"] = district_summary[\"Average Math Score\"].map(\"{:,.2f}\".format)\n",
    "district_summary[\"Average Reading Score\"] = district_summary[\"Average Reading Score\"].map(\"{:,.2f}\".format)\n",
    "district_summary[\"% Passing Math\"] = district_summary[\"% Passing Math\"].map(\"{:,.2f}\".format)\n",
    "district_summary[\"% Passing Reading\"] = district_summary[\"% Passing Reading\"].map(\"{:,.2f}\".format)\n",
    "district_summary[\"% Overall Passing\"] = district_summary[\"% Overall Passing\"].map(\"{:,.2f}\".format)\n",
    "\n",
    "# Display the DataFrame\n",
    "district_summary"
   ]
  },
  {
   "cell_type": "markdown",
   "id": "2712692a-0180-4c3e-9289-c8041be1a3e3",
   "metadata": {},
   "source": []
  },
  {
   "cell_type": "markdown",
   "id": "ee53576f-63e2-4229-bb5b-aeb34500a814",
   "metadata": {},
   "source": [
    "# School Summary"
   ]
  },
  {
   "cell_type": "code",
   "execution_count": null,
   "id": "2a1bcf73-2366-4639-9d3a-495d515ebee9",
   "metadata": {},
   "outputs": [],
   "source": [
    "# Find all of the different school names and their types in the district\n",
    "school_types = school_data.set_index([\"school_name\"])[\"type\"]\n",
    "school_types"
   ]
  },
  {
   "cell_type": "code",
   "execution_count": null,
   "id": "8305bf8e-c935-4502-9428-9828eace02b2",
   "metadata": {},
   "outputs": [],
   "source": [
    "# Calculate the total student count for each school\n",
    "student_school_counts = school_data.set_index(['school_name'])['size']\n",
    "student_school_counts"
   ]
  },
  {
   "cell_type": "code",
   "execution_count": null,
   "id": "0701358a-02d7-47ae-bbfd-e1b33689b619",
   "metadata": {},
   "outputs": [],
   "source": [
    "# Calculate the total school budget and how much each school spends on each student each year\n",
    "per_school_budget = school_data_complete.groupby([\"school_name\"])[\"budget\"].mean()\n",
    "per_school_budget"
   ]
  },
  {
   "cell_type": "code",
   "execution_count": null,
   "id": "1b759d38-631c-48c2-a478-cba385c6bbae",
   "metadata": {},
   "outputs": [],
   "source": [
    "per_student_capita = per_school_budget / student_school_counts\n",
    "per_student_capita"
   ]
  },
  {
   "cell_type": "code",
   "execution_count": null,
   "id": "fdcc5d2d-b229-408b-b69e-441ab3dc8ac9",
   "metadata": {},
   "outputs": [],
   "source": [
    "# Calculate the average math test scores for each school\n",
    "each_school_math = school_data_complete.groupby([\"school_name\"])[\"math_score\"].mean()\n",
    "each_school_math"
   ]
  },
  {
   "cell_type": "code",
   "execution_count": null,
   "id": "aaa3f360-1f07-4bde-be5a-7fb47a9d09cf",
   "metadata": {},
   "outputs": [],
   "source": [
    "# Calculate the average reading test scores for each school\n",
    "each_school_reading = school_data_complete.groupby([\"school_name\"])[\"reading_score\"].mean()\n",
    "each_school_reading"
   ]
  },
  {
   "cell_type": "code",
   "execution_count": null,
   "id": "d4999eb6-e2d3-446d-93ae-2e0f4e26ae29",
   "metadata": {},
   "outputs": [],
   "source": [
    "# Calculate the number of students per school that is passing math with scores of 70 or higher\n",
    "students_passing_math = school_data_complete[(school_data_complete[\"math_score\"] >= 70)]\n",
    "school_students_passing_math = students_passing_math.groupby([\"school_name\"]).size()\n",
    "school_students_passing_math"
   ]
  },
  {
   "cell_type": "code",
   "execution_count": null,
   "id": "33ac96cb-aa33-40e6-9588-f0f91e1e0898",
   "metadata": {},
   "outputs": [],
   "source": [
    "# Calculate the number of students per school that is passing reading with scores of 70 or higher\n",
    "students_passing_reading = school_data_complete[(school_data_complete[\"reading_score\"] >= 70)]\n",
    "school_students_passing_reading = students_passing_reading.groupby([\"school_name\"]).size()\n",
    "school_students_passing_reading"
   ]
  },
  {
   "cell_type": "code",
   "execution_count": null,
   "id": "a2c794fc-4fc8-4a65-bebd-5ea440f55abc",
   "metadata": {},
   "outputs": [],
   "source": [
    "# Calculate the number of students per school that passed both math and reading with scores of 70 or higher\n",
    "students_passing_math_and_reading = school_data_complete[\n",
    "    (school_data_complete[\"reading_score\"] >= 70) & (school_data_complete[\"math_score\"] >= 70)]\n",
    "school_students_passing_math_and_reading = students_passing_math_and_reading.groupby([\"school_name\"]).size()\n",
    "school_students_passing_math_and_reading"
   ]
  },
  {
   "cell_type": "code",
   "execution_count": null,
   "id": "6d8a72dc-0f60-4b22-bb06-ddb4bce31fdd",
   "metadata": {},
   "outputs": [],
   "source": [
    "# Calculate the passing rate percentage for each school of students who passed math\n",
    "each_school_passing_math = school_students_passing_math / student_school_counts  * 100\n",
    "each_school_passing_math"
   ]
  },
  {
   "cell_type": "code",
   "execution_count": null,
   "id": "2db6467f-dade-47e3-af9a-176356b5dcd6",
   "metadata": {},
   "outputs": [],
   "source": [
    "# Calculate the passing rate percentage for each school of students who passed reading\n",
    "each_school_passing_reading = school_students_passing_reading / student_school_counts  * 100\n",
    "each_school_passing_reading"
   ]
  },
  {
   "cell_type": "code",
   "execution_count": null,
   "id": "8e6fee81-4b8c-42d9-b51e-cbbae48b810a",
   "metadata": {},
   "outputs": [],
   "source": [
    "overall_passing_rate = school_students_passing_math_and_reading / student_school_counts * 100\n",
    "overall_passing_rate"
   ]
  },
  {
   "cell_type": "code",
   "execution_count": null,
   "id": "b1dbb0f6-9320-421b-86a1-907d02b362e9",
   "metadata": {},
   "outputs": [],
   "source": [
    "# Create a DataFrame called `each_school_summary` with columns for the calculations above\n",
    "each_school_summary = pd.DataFrame(\n",
    "    {\n",
    "        \"School Type\": school_types,\n",
    "        \"Total Students\": student_school_counts,\n",
    "        \"Total School Budget\": per_school_budget,\n",
    "        \"Per Student Budget\": per_student_capita,\n",
    "        \"Average Math Score\": each_school_math,\n",
    "        \"Average Reading Score\": each_school_reading,\n",
    "        \"% Passing Math\": each_school_passing_math,\n",
    "        \"% Passing Reading\": each_school_passing_reading,\n",
    "        \"% Overall Passing\": overall_passing_rate\n",
    "    }\n",
    ")\n",
    "\n",
    "# Formatting the Dataframe\n",
    "each_school_summary[\"Total School Budget\"] = each_school_summary[\"Total School Budget\"].map(\"${:,.2f}\".format)\n",
    "each_school_summary[\"Per Student Budget\"] = each_school_summary[\"Per Student Budget\"].map(\"${:,.2f}\".format)\n",
    "\n",
    "# Display the DataFrame\n",
    "each_school_summary"
   ]
  },
  {
   "cell_type": "markdown",
   "id": "7e6d0e88-7865-44ba-b351-7efb2c14433b",
   "metadata": {},
   "source": [
    "# Highest-Performing Schools (by % Overall Passing)"
   ]
  },
  {
   "cell_type": "code",
   "execution_count": null,
   "id": "10c5b26b-f937-4587-a36c-e3cab1c0dce7",
   "metadata": {},
   "outputs": [],
   "source": [
    "# Sort the schools by `% Overall Passing` in descending order and display the top 5 rows.\n",
    "top_schools = top_schools = each_school_summary.sort_values([\"% Overall Passing\"], ascending=False)\n",
    "top_schools.head(5)"
   ]
  },
  {
   "cell_type": "markdown",
   "id": "68ffd90c-547d-45e3-985f-8e444103c3f0",
   "metadata": {},
   "source": [
    "# Bottom Performing Schools (by % Overall Passing)"
   ]
  },
  {
   "cell_type": "code",
   "execution_count": null,
   "id": "493394c9-69ce-4d4b-bdb0-15a4cb100261",
   "metadata": {},
   "outputs": [],
   "source": [
    "# Sort the schools by `% Overall Passing` in ascending order and display the top 5 rows.\n",
    "bottom_schools = each_school_summary.sort_values([\"% Overall Passing\"], ascending=True)\n",
    "bottom_schools.head(5)"
   ]
  },
  {
   "cell_type": "markdown",
   "id": "b971aa66-3101-477b-9b68-4f47037a0836",
   "metadata": {},
   "source": [
    "# Math Scores by Grade"
   ]
  },
  {
   "cell_type": "code",
   "execution_count": null,
   "id": "9742c9e6-5f78-4f98-9ca1-159d2859f07c",
   "metadata": {},
   "outputs": [],
   "source": [
    "# Separate the data by grade\n",
    "ninth_graders = school_data_complete[(school_data_complete[\"grade\"] == \"9th\")]\n",
    "tenth_graders = school_data_complete[(school_data_complete[\"grade\"] == \"10th\")]\n",
    "eleventh_graders = school_data_complete[(school_data_complete[\"grade\"] == \"11th\")]\n",
    "twelfth_graders = school_data_complete[(school_data_complete[\"grade\"] == \"12th\")]\n",
    "\n",
    "# Group the data by `school_name` and take the average of the `math_score` column for each.\n",
    "ninth_grade_math_scores = ninth_graders.groupby([\"school_name\"])[\"math_score\"].mean()\n",
    "tenth_grader_math_scores = tenth_graders.groupby([\"school_name\"])[\"math_score\"].mean()\n",
    "eleventh_grader_math_scores = eleventh_graders.groupby([\"school_name\"])[\"math_score\"].mean()\n",
    "twelfth_grader_math_scores = twelfth_graders.groupby([\"school_name\"])[\"math_score\"].mean()\n",
    "\n",
    "# Combine each of the scores above into a single DataFrame called `math_scores_by_grade`\n",
    "math_scores_by_grade = pd.DataFrame({\"9th Grade\": ninth_grade_math_scores,\n",
    "                                   \"10th Grade\": tenth_grader_math_scores,\n",
    "                                    \"11th Grade\": eleventh_grader_math_scores,\n",
    "                                    \"12th Grade\": twelfth_grader_math_scores\n",
    "                                    })\n",
    "\n",
    "# Remove the Index Name from the data\n",
    "math_scores_by_grade.index.name = None\n",
    "\n",
    "# Display the DataFrame\n",
    "math_scores_by_grade"
   ]
  },
  {
   "cell_type": "markdown",
   "id": "9331dbf9-d527-47f6-8246-1c531272cbe4",
   "metadata": {},
   "source": [
    "# Math Scores by Grade"
   ]
  },
  {
   "cell_type": "code",
   "execution_count": null,
   "id": "f446deee-fc9d-43e9-af39-bb75d1f37054",
   "metadata": {},
   "outputs": [],
   "source": [
    "# Separate the data by grade\n",
    "ninth_graders = school_data_complete[(school_data_complete[\"grade\"] == \"9th\")]\n",
    "tenth_graders = school_data_complete[(school_data_complete[\"grade\"] == \"10th\")]\n",
    "eleventh_graders = school_data_complete[(school_data_complete[\"grade\"] == \"11th\")]\n",
    "twelfth_graders = school_data_complete[(school_data_complete[\"grade\"] == \"12th\")]\n",
    "\n",
    "# Group the data by `school_name` and take the average of the the `reading_score` column for each.\n",
    "ninth_grade_reading_scores = ninth_graders.groupby([\"school_name\"])[\"reading_score\"].mean()\n",
    "tenth_grader_reading_scores = tenth_graders.groupby([\"school_name\"])[\"reading_score\"].mean()\n",
    "eleventh_grader_reading_scores = eleventh_graders.groupby([\"school_name\"])[\"reading_score\"].mean()\n",
    "twelfth_grader_reading_scores = twelfth_graders.groupby([\"school_name\"])[\"reading_score\"].mean()\n",
    "\n",
    "# Combine each of the scores above into single DataFrame called `reading_scores_by_grade`\n",
    "reading_scores_by_grade = pd.DataFrame(\n",
    "    {\n",
    "        \"9th\": ninth_grade_reading_scores, \n",
    "        \"10th\": tenth_grader_reading_scores,\n",
    "        \"11th\": eleventh_grader_reading_scores, \n",
    "        \"12th\": twelfth_grader_reading_scores\n",
    "    }\n",
    ")\n",
    "\n",
    "# Remove the Index Name from the data\n",
    "math_scores_by_grade.index.name = None\n",
    "\n",
    "# Display the DataFrame\n",
    "reading_scores_by_grade"
   ]
  },
  {
   "cell_type": "markdown",
   "id": "08d5d505-2779-461e-a77b-8940ca527173",
   "metadata": {},
   "source": [
    "# Scores by School Spending"
   ]
  },
  {
   "cell_type": "code",
   "execution_count": null,
   "id": "9994dcbd-0c51-4a1c-8dde-782e36674305",
   "metadata": {},
   "outputs": [],
   "source": [
    "# Establish the bins by creating four bins with reasonable cutoff values to group school spending\n",
    "spending_bins = [0, 585, 630, 645, 680]\n",
    "labels = [\"<$585\", \"$585-630\", \"$630-645\", \"$645-680\"]"
   ]
  },
  {
   "cell_type": "code",
   "execution_count": null,
   "id": "a04b9f9c-f069-4c98-b83d-81917632a5a1",
   "metadata": {},
   "outputs": [],
   "source": [
    "# Create a copy of the school summary since it has the \"Per Student Budget\" \n",
    "school_spending_df = each_school_summary.copy()"
   ]
  },
  {
   "cell_type": "code",
   "execution_count": null,
   "id": "f9cb85ee-0fe1-47ae-aace-ae66a2d90185",
   "metadata": {},
   "outputs": [],
   "source": [
    "# Use `pd.cut` to categorize spending based on the bins\n",
    "school_spending_df[\"Spending Ranges (Per Student)\"] = pd.cut(per_student_capita, spending_bins, labels=labels, right=False)\n",
    "school_spending_df"
   ]
  },
  {
   "cell_type": "code",
   "execution_count": null,
   "id": "ed6a0a4c-56e1-46a3-8cca-a844b581ff93",
   "metadata": {},
   "outputs": [],
   "source": [
    "# Use 'pd.cut' to categorize spending based on the bins, hen calculate the average scores per spending range\n",
    "spending_math_scores = school_spending_df.groupby([\"Spending Ranges (Per Student)\"])[\"Average Math Score\"].mean()\n",
    "spending_reading_scores = school_spending_df.groupby([\"Spending Ranges (Per Student)\"])[\"Average Reading Score\"].mean()\n",
    "spending_passing_math = school_spending_df.groupby([\"Spending Ranges (Per Student)\"])[\"% Passing Math\"].mean()\n",
    "spending_passing_reading = school_spending_df.groupby([\"Spending Ranges (Per Student)\"])[\"% Passing Reading\"].mean()\n",
    "overall_passing_spending = school_spending_df.groupby([\"Spending Ranges (Per Student)\"])[\"% Overall Passing\"].mean()"
   ]
  },
  {
   "cell_type": "code",
   "execution_count": null,
   "id": "f19e60f2-0271-4558-988d-9bb19cb5d47d",
   "metadata": {},
   "outputs": [],
   "source": [
    "# Create a DataFrame for 'Spending Summary'\n",
    "spending_summary = pd.DataFrame(\n",
    "    {\n",
    "        \"Average Math Score\" : spending_math_scores,\n",
    "        \"Average Reading Score\": spending_reading_scores,\n",
    "        \"% Passing Math\": spending_passing_math,\n",
    "        \"% Passing Reading\": spending_passing_reading,\n",
    "        \"% Overall Passing\": overall_passing_spending\n",
    "    }\n",
    ")\n",
    "\n",
    "# Display the DataFrame\n",
    "spending_summary"
   ]
  },
  {
   "cell_type": "markdown",
   "id": "fc58580b-292c-4ecf-b03c-fafa871aea5c",
   "metadata": {},
   "source": [
    "# Scores by School Size"
   ]
  },
  {
   "cell_type": "code",
   "execution_count": null,
   "id": "e6727213-618b-4b6d-9645-1f69d2b53ebb",
   "metadata": {},
   "outputs": [],
   "source": [
    "# Create the binds\n",
    "size_bins = [0, 1000, 2000, 5000]\n",
    "labels = [\"Small (<1000)\", \"Medium (1000-2000)\", \"Large (2000-5000)\"]\n",
    "\n",
    "# Categorize the spending based on the bins\n",
    "# Use `pd.cut` on the \"Total Students\" column of the `each_school_summary` DataFrame\n",
    "each_school_summary[\"School Size\"] = pd.cut(each_school_summary[\"Total Students\"], size_bins, labels=labels, right=False)\n",
    "each_school_summary"
   ]
  },
  {
   "cell_type": "code",
   "execution_count": null,
   "id": "47ca6f5e-a8d6-4c26-a7b2-048e0114fb0b",
   "metadata": {},
   "outputs": [],
   "source": [
    "# Calculate averages for the desired columns.\n",
    "size_math_scores = each_school_summary.groupby([\"School Size\"])[\"Average Math Score\"].mean()\n",
    "size_reading_scores = each_school_summary.groupby([\"School Size\"])[\"Average Reading Score\"].mean()\n",
    "size_passing_math = each_school_summary.groupby([\"School Size\"])[\"% Passing Math\"].mean()\n",
    "size_passing_reading = each_school_summary.groupby([\"School Size\"])[\"% Passing Reading\"].mean()\n",
    "size_overall_passing = each_school_summary.groupby([\"School Size\"])[\"% Overall Passing\"].mean()"
   ]
  },
  {
   "cell_type": "code",
   "execution_count": null,
   "id": "595dd7ea-5471-460f-857c-dd621047af3a",
   "metadata": {},
   "outputs": [],
   "source": [
    "#Create a DataFrame called `size_summary` that breaks down school performance based on school size (small, medium, or large)\n",
    "# Use the scores above to create a new DataFrame called `size_summary`\n",
    "size_summary = pd.DataFrame(\n",
    "    {\n",
    "        \"Average Math Score\" : size_math_scores,\n",
    "        \"Average Reading Score\": size_reading_scores,\n",
    "        \"% Passing Math\": size_passing_math,\n",
    "        \"% Passing Reading\": size_passing_reading,\n",
    "        \"% Overall Passing\": size_overall_passing\n",
    "    }\n",
    ")\n",
    "\n",
    "# Display results\n",
    "size_summary"
   ]
  },
  {
   "cell_type": "markdown",
   "id": "59111ced-ae76-4184-9f1a-2f5c439c1c7e",
   "metadata": {},
   "source": [
    "# Scores by School Type"
   ]
  },
  {
   "cell_type": "code",
   "execution_count": null,
   "id": "8fa96ee6-ba89-483d-a0de-1216686445f5",
   "metadata": {},
   "outputs": [],
   "source": [
    "# Group the 'each_school_summary' DataFrame by School Type\" and average the results.\n",
    "average_math_score_by_type = each_school_summary.groupby([\"School Type\"])[\"Average Math Score\"].mean()\n",
    "average_reading_score_by_type = each_school_summary.groupby([\"School Type\"])[\"Average Reading Score\"].mean()\n",
    "average_percent_passing_math_by_type = each_school_summary.groupby([\"School Type\"])[\"% Passing Math\"].mean()\n",
    "average_percent_passing_reading_by_type = each_school_summary.groupby([\"School Type\"])[\"% Passing Reading\"].mean()\n",
    "average_percent_overall_passing_by_type = each_school_summary.groupby([\"School Type\"])[\"% Overall Passing\"].mean()"
   ]
  },
  {
   "cell_type": "code",
   "execution_count": null,
   "id": "9e254a71-9926-4f5b-b0d9-2424aa97e243",
   "metadata": {},
   "outputs": [],
   "source": [
    "# Assemble the new data by type into a DataFrame called `type_summary`\n",
    "type_summary = pd.DataFrame(\n",
    "    {\n",
    "        \"Average Math Score\" : average_math_score_by_type,\n",
    "        \"Average Reading Score\": average_reading_score_by_type,\n",
    "        \"% Passing Math\": average_percent_passing_math_by_type,\n",
    "        \"% Passing Reading\": average_percent_passing_reading_by_type,\n",
    "        \"% Overall Passing\": average_percent_overall_passing_by_type\n",
    "    }\n",
    ")\n",
    "\n",
    "# Display results\n",
    "type_summary"
   ]
  },
  {
   "cell_type": "code",
   "execution_count": null,
   "id": "57300ca3-b1a8-4a7c-b672-dd3c24b33dca",
   "metadata": {},
   "outputs": [],
   "source": []
  }
 ],
 "metadata": {
  "kernelspec": {
   "display_name": "Python 3 (ipykernel)",
   "language": "python",
   "name": "python3"
  },
  "language_info": {
   "codemirror_mode": {
    "name": "ipython",
    "version": 3
   },
   "file_extension": ".py",
   "mimetype": "text/x-python",
   "name": "python",
   "nbconvert_exporter": "python",
   "pygments_lexer": "ipython3",
   "version": "3.10.14"
  }
 },
 "nbformat": 4,
 "nbformat_minor": 5
}
